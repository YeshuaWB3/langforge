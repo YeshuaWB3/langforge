{
 "cells": [
  {
   "cell_type": "markdown",
   "id": "093477b5-c4ed-4e93-99ec-e29bcfe103fa",
   "metadata": {},
   "source": [
    "# Create a Custom ChatGPT (deterministic)\n",
    "\n",
    "This is a quick template for creating a custom ChatGPT version of ChatGPT using 🦜🔗 LangChain.\n",
    "\n",
    "In this notebook, we assign the large language model (LLM) the role of a life coach. You can modify the prompt to suit any other task that calls for more consistent and focused output.\n",
    "\n",
    "Observe that we set the temperature to its minimum value (0) to make the output more deterministic.\n"
   ]
  },
  {
   "cell_type": "code",
   "execution_count": null,
   "id": "60008d25-d32a-466c-be48-addaa6bf57e7",
   "metadata": {
    "tags": []
   },
   "outputs": [],
   "source": [
    "# make sure all packages are installed and environment variables are set\n",
    "%setup langchain openai"
   ]
  },
  {
   "cell_type": "code",
   "execution_count": null,
   "id": "f6092f6a-2efe-4eab-a868-1b58e6c36c50",
   "metadata": {
    "tags": []
   },
   "outputs": [],
   "source": [
    "from langchain.prompts import (\n",
    "    ChatPromptTemplate, \n",
    "    MessagesPlaceholder, \n",
    "    SystemMessagePromptTemplate, \n",
    "    HumanMessagePromptTemplate\n",
    ")\n",
    "from langchain.chains import ConversationChain\n",
    "from langchain.chat_models import ChatOpenAI\n",
    "from langchain.memory import ConversationBufferMemory"
   ]
  },
  {
   "cell_type": "code",
   "execution_count": null,
   "id": "fcf9ee57-4423-43ae-8645-4aeb7d8b6a85",
   "metadata": {
    "tags": []
   },
   "outputs": [],
   "source": [
    "template = \"\"\"This is a conversation between a human and a system called CoachGPT.\n",
    "\n",
    "CoachGPT is designed to ask the user for their age and name.\n",
    "\n",
    "Once it knows age and name, CoachGPT will give some good life advices. It will refuse\n",
    "to give any advice without knowing the humans age and name.\n",
    "\n",
    "After CoachGPT has given advice, it will ask the user to visit the website \n",
    "\"https://example.com/signup\" to sign up for free and end the conversation.\n",
    "\"\"\"\n",
    "\n",
    "prompt = ChatPromptTemplate.from_messages([\n",
    "    SystemMessagePromptTemplate.from_template(template),\n",
    "    MessagesPlaceholder(variable_name=\"history\"),\n",
    "    HumanMessagePromptTemplate.from_template(\"{input}\")\n",
    "])\n",
    "\n",
    "llm = ChatOpenAI(temperature=0)\n",
    "# if you want GPT-4: \n",
    "# llm = ChatOpenAI(temperature=0, model_name=\"gpt-4\")\n",
    "\n",
    "memory = ConversationBufferMemory(return_messages=True)\n",
    "gpt_adventure = ConversationChain(memory=memory, prompt=prompt, llm=llm)"
   ]
  }
 ],
 "metadata": {
  "kernelspec": {
   "display_name": "Python 3 (ipykernel)",
   "language": "python",
   "name": "python3"
  },
  "language_info": {
   "codemirror_mode": {
    "name": "ipython",
    "version": 3
   },
   "file_extension": ".py",
   "mimetype": "text/x-python",
   "name": "python",
   "nbconvert_exporter": "python",
   "pygments_lexer": "ipython3",
   "version": "3.9.6"
  }
 },
 "nbformat": 4,
 "nbformat_minor": 5
}
