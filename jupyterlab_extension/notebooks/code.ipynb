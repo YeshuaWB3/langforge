{
 "cells": [
  {
   "cell_type": "markdown",
   "id": "9b88091e-2cdc-485c-93be-8601e633175e",
   "metadata": {
    "tags": []
   },
   "source": [
    "# Code QA\n",
    "Use this template to ask questions about any GitHub repository"
   ]
  },
  {
   "cell_type": "code",
   "execution_count": null,
   "id": "2f3f9a1e-6fa9-4e13-8816-da6b086370c7",
   "metadata": {
    "tags": []
   },
   "outputs": [],
   "source": [
    "%setup langchain deeplake openai tiktoken"
   ]
  },
  {
   "cell_type": "code",
   "execution_count": null,
   "id": "c078f31b-8735-4de6-990d-42feb1704909",
   "metadata": {
    "tags": []
   },
   "outputs": [],
   "source": [
    "import os\n",
    "from langchain.embeddings.openai import OpenAIEmbeddings\n",
    "from langchain.vectorstores import DeepLake\n",
    "from langchain.document_loaders import TextLoader\n",
    "from langchain.text_splitter import CharacterTextSplitter\n",
    "from langchain.chat_models import ChatOpenAI\n",
    "from langchain.chains import ConversationalRetrievalChain\n",
    "from langchain.memory import ConversationBufferMemory"
   ]
  },
  {
   "cell_type": "code",
   "execution_count": null,
   "id": "adcd34b8-5f85-4be6-83f2-b6a8112fa1ad",
   "metadata": {
    "tags": []
   },
   "outputs": [],
   "source": [
    "!git clone https://github.com/twitter/the-algorithm # replace any repository of your choice "
   ]
  },
  {
   "cell_type": "code",
   "execution_count": null,
   "id": "48db6914-8c61-417e-9932-e4173a2ed555",
   "metadata": {
    "tags": []
   },
   "outputs": [],
   "source": [
    "root_dir = './the-algorithm'\n",
    "docs = []\n",
    "for dirpath, dirnames, filenames in os.walk(root_dir):\n",
    "    for file in filenames:\n",
    "        try: \n",
    "            loader = TextLoader(os.path.join(dirpath, file), encoding='utf-8')\n",
    "            docs.extend(loader.load_and_split())\n",
    "        except Exception as e: \n",
    "            pass\n",
    "text_splitter = CharacterTextSplitter(chunk_size=5000, chunk_overlap=0)\n",
    "texts = text_splitter.split_documents(docs)"
   ]
  },
  {
   "cell_type": "code",
   "execution_count": null,
   "id": "c047943f-5432-4d5f-afd4-f32f9bead90e",
   "metadata": {
    "tags": []
   },
   "outputs": [],
   "source": [
    "embeddings = OpenAIEmbeddings()\n",
    "db = DeepLake.from_documents(texts, embeddings)"
   ]
  },
  {
   "cell_type": "code",
   "execution_count": null,
   "id": "98a74173-15b2-49b0-b789-0fe8da65f9a4",
   "metadata": {
    "tags": []
   },
   "outputs": [],
   "source": [
    "retriever = db.as_retriever()\n",
    "retriever.search_kwargs['distance_metric'] = 'cos'\n",
    "retriever.search_kwargs['fetch_k'] = 100\n",
    "retriever.search_kwargs['maximal_marginal_relevance'] = True\n",
    "retriever.search_kwargs['k'] = 20\n",
    "\n",
    "def filter(x):\n",
    "    # filter based on source code\n",
    "    if 'com.google' in x['text'].data()['value']:\n",
    "        return False\n",
    "    \n",
    "    # filter based on path e.g. extension\n",
    "    metadata =  x['metadata'].data()['value']\n",
    "    return 'scala' in metadata['source'] or 'py' in metadata['source']"
   ]
  },
  {
   "cell_type": "code",
   "execution_count": null,
   "id": "a6217adb-275b-4e2c-bdb1-738f70d278fe",
   "metadata": {
    "tags": []
   },
   "outputs": [],
   "source": [
    "memory = ConversationBufferMemory(memory_key=\"chat_history\", input_key=\"question\")\n",
    "model = ChatOpenAI(model='gpt-4') # 'gpt-3.5-turbo',\n",
    "qa = ConversationalRetrievalChain.from_llm(model,retriever=retriever, memory=memory, get_chat_history=lambda inputs: inputs)"
   ]
  }
 ],
 "metadata": {
  "kernelspec": {
   "display_name": "Python 3 (ipykernel)",
   "language": "python",
   "name": "python3"
  },
  "language_info": {
   "codemirror_mode": {
    "name": "ipython",
    "version": 3
   },
   "file_extension": ".py",
   "mimetype": "text/x-python",
   "name": "python",
   "nbconvert_exporter": "python",
   "pygments_lexer": "ipython3",
   "version": "3.9.6"
  }
 },
 "nbformat": 4,
 "nbformat_minor": 5
}
